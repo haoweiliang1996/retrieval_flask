{
 "cells": [
  {
   "cell_type": "code",
   "execution_count": 1,
   "metadata": {
    "collapsed": true
   },
   "outputs": [],
   "source": [
    "import mxnet as mx\n",
    "import cv2\n",
    "import numpy as np\n",
    "from os.path import join\n",
    "import os"
   ]
  },
  {
   "cell_type": "code",
   "execution_count": 2,
   "metadata": {
    "collapsed": true
   },
   "outputs": [],
   "source": [
    "batch_size = 512\n",
    "val_label = None\n",
    "imgs = None\n",
    "\n",
    "class_id = str(1)\n",
    "num_id = '10'\n",
    "attr_len = [int(num_id)]\n",
    "eval_epoch = 30\n",
    "mu = 2\n",
    "width = 110 * mu\n",
    "longth = int(160/8*7 * mu)\n",
    "longth_ = int(longth/8*6)\n",
    "width_ = int(width /8*6)\n",
    "folder_name = '{}_data_{}/'.format(class_id,num_id)\n",
    "class_num_id = '{}_data_{}/'.format(class_id,num_id)\n",
    "resnet_version = '152'\n",
    "checkpoint_name ='fine-tuned-resnet{}-{}-{}'.format(resnet_version,class_id,num_id) \n",
    "pretrain_model_name = 'resnet-{}'.format(resnet_version)\n",
    "\n",
    "\n",
    "\n",
    "\n",
    "def eval_avage(fea_list,val_label):\n",
    "    res_final = mx.nd.zeros(fea_list[0].shape,ctx=mx.gpu())\n",
    "    val_label = val_label.as_in_context(mx.gpu())\n",
    "    #res_final = final_res[0]\n",
    "    for i in fea_list:\n",
    "        res_final += i\n",
    "    res_final/= len(fea_list)\n",
    "    acc = mx.metric.Accuracy()\n",
    "    top2 = mx.metric.TopKAccuracy(top_k=2)\n",
    "    acc.update(labels=[val_label],preds=[res_final])\n",
    "    top2.update(labels=[val_label],preds=[res_final])\n",
    "    print(acc.get())\n",
    "    print(top2.get())\n",
    "    return res_final\n"
   ]
  },
  {
   "cell_type": "code",
   "execution_count": 3,
   "metadata": {
    "collapsed": true
   },
   "outputs": [],
   "source": [
    "os.chdir(join('/home/lhw/face/faceRec/',folder_name))"
   ]
  },
  {
   "cell_type": "code",
   "execution_count": 4,
   "metadata": {},
   "outputs": [
    {
     "name": "stdout",
     "output_type": "stream",
     "text": [
      "fine-tuned-resnet152-1-10 30\n",
      "0\n",
      "1\n",
      "2\n",
      "3\n",
      "4\n",
      "CPU times: user 1min, sys: 7.03 s, total: 1min 7s\n",
      "Wall time: 48.7 s\n"
     ]
    },
    {
     "data": {
      "text/plain": [
       "'\\nres_final = mx.nd.zeros(fea_list[0].shape,ctx=mx.cpu())\\nfor i in fea_list:\\n    res_final += i\\nres_final/= len(fea_list)\\n'"
      ]
     },
     "execution_count": 4,
     "metadata": {},
     "output_type": "execute_result"
    }
   ],
   "source": [
    "def do_multi_predict(model_name,batch_size=512,folder_name=folder_name,epoch_num=eval_epoch,tt=1):\n",
    "    #sym, arg_params, aux_params = mx.model.load_checkpoint('fine-tuned-firstclass-res18-use-resize', 25)\n",
    "    sym, arg_params, aux_params = mx.model.load_checkpoint(model_name,epoch_num)\n",
    "    mod = mx.mod.Module(symbol=sym, context=mx.cpu(), label_names=None)\n",
    "    mod.bind(for_training=False, data_shapes=[('data', (batch_size,3,longth_,width_))], \n",
    "             label_shapes=mod._label_shapes)\n",
    "    mod.set_params(arg_params, aux_params, allow_missing=True)\n",
    "    augs = [mx.image.CenterCropAug(size=(width,longth))]\n",
    "    augs += mx.image.CreateAugmenter(data_shape=(3,longth_, width_),rand_crop=True,rand_resize=False, rand_mirror=True, brightness=0.125, contrast=0.125, rand_gray=0.05,saturation=0.125, pca_noise=0, inter_method=10)\n",
    "    final_res = None\n",
    "    print(model_name,epoch_num)\n",
    "    # define a simple data batch\n",
    "    for i in range(tt):\n",
    "        print(i)\n",
    "        val_iter= mx.image.ImageIter(batch_size=batch_size, data_shape=(3, longth_, width_), label_width=1,\n",
    "                                       path_imgidx='cloth_val.idx', path_imgrec='cloth_val.rec', shuffle=False,\n",
    "                                       aug_list=augs)\n",
    "        res = mod.predict(val_iter,always_output_list=True)\n",
    "        if final_res is None:\n",
    "            final_res = res\n",
    "        else:\n",
    "            final_res += res\n",
    "    del mod\n",
    "    return final_res\n",
    "%time fea_list = do_multi_predict(checkpoint_name,tt=5,epoch_num=eval_epoch)\n",
    "\n",
    "#res_final = final_res[0]\n",
    "'''\n",
    "res_final = mx.nd.zeros(fea_list[0].shape,ctx=mx.cpu())\n",
    "for i in fea_list:\n",
    "    res_final += i\n",
    "res_final/= len(fea_list)\n",
    "'''\n",
    "#print(1,10,3,4,5,6,7,8)\n",
    "#rrrr =  ['帽子','鞋子','披带类','上装','裤子','裙子','连体装','包包']\n",
    "#print(res_final,rrrr[res_final[0].asnumpy().argmax()])"
   ]
  },
  {
   "cell_type": "code",
   "execution_count": null,
   "metadata": {},
   "outputs": [],
   "source": []
  },
  {
   "cell_type": "code",
   "execution_count": 5,
   "metadata": {},
   "outputs": [
    {
     "name": "stdout",
     "output_type": "stream",
     "text": [
      "[[  1.72660034e-02   6.03203021e-04   1.52707249e-02 ...,   8.85449816e-03\n",
      "    5.92178218e-02   4.34029615e-03]\n",
      " [  3.54628864e-04   6.22537584e-07   8.82950280e-06 ...,   3.57272038e-05\n",
      "    9.99575913e-01   9.52266703e-07]\n",
      " [  9.98102725e-01   5.24943800e-07   5.32778870e-07 ...,   5.38065251e-07\n",
      "    3.32774590e-07   1.65709085e-03]\n",
      " ..., \n",
      " [  4.13289788e-04   5.29677163e-06   8.60434193e-06 ...,   3.09992000e-03\n",
      "    9.96251285e-01   7.62217096e-05]\n",
      " [  5.44314134e-05   4.07956168e-06   1.83116572e-04 ...,   2.59209238e-03\n",
      "    9.96435881e-01   1.33342983e-05]\n",
      " [  4.27482352e-02   1.49002988e-02   9.21234071e-01 ...,   4.58951853e-03\n",
      "    2.10917694e-03   1.89070648e-03]]\n"
     ]
    }
   ],
   "source": [
    "print(fea_list[0].asnumpy())"
   ]
  },
  {
   "cell_type": "code",
   "execution_count": 6,
   "metadata": {},
   "outputs": [
    {
     "name": "stdout",
     "output_type": "stream",
     "text": [
      "(1081,)\n",
      "CPU times: user 11.6 s, sys: 908 ms, total: 12.5 s\n",
      "Wall time: 5.85 s\n"
     ]
    }
   ],
   "source": [
    "%time val_label= ge_val_label(folder_name=folder_name)"
   ]
  },
  {
   "cell_type": "code",
   "execution_count": 7,
   "metadata": {
    "collapsed": true
   },
   "outputs": [],
   "source": [
    "import pickle\n",
    "with open('fea_list'.format(class_num_id),'wb') as f:\n",
    "    pickle.dump(fea_list,f)\n",
    "with open('val_label'.format(class_num_id),'wb') as f:\n",
    "    pickle.dump(val_label,f)"
   ]
  },
  {
   "cell_type": "code",
   "execution_count": 9,
   "metadata": {},
   "outputs": [
    {
     "name": "stdout",
     "output_type": "stream",
     "text": [
      "('accuracy', 0.82423681776133206)\n",
      "('top_k_accuracy_2', 0.91119333950046255)\n",
      "197 150 0 0 190\n",
      "0.3209990749306198\n",
      "0.03700277520814061\n"
     ]
    }
   ],
   "source": [
    "res_final= eval_avage(fea_list[0:5],val_label)\n",
    "p = res_final.asnumpy()\n",
    "l = val_label.asnumpy()\n",
    "pred = []\n",
    "ff = []\n",
    "tt = []\n",
    "fff = []\n",
    "ttf = []\n",
    "ttc = []\n",
    "allf = []\n",
    "the = 0.90\n",
    "for i in range(len(p)):\n",
    "    pp = p[i]\n",
    "    mm = pp.argmax()\n",
    "    if mm != l[i]:\n",
    "        allf.append(pp[mm])\n",
    "    if mm != l[i] and pp[mm] <the:\n",
    "        ff.append(pp[mm])\n",
    "    else:\n",
    "        if pp[mm] < the:\n",
    "            tt.append(pp[mm])\n",
    "            ttc.append(mm)\n",
    "print(len(tt),len(ff),len(ttf),len(fff),len(allf))\n",
    "print((len(tt)+len(ff))/res_final.shape[0])\n",
    "print((len(allf)-len(ff))/res_final.shape[0])\n",
    "#print(len([i for i in ttc if i==])/500)"
   ]
  },
  {
   "cell_type": "code",
   "execution_count": 10,
   "metadata": {},
   "outputs": [
    {
     "name": "stdout",
     "output_type": "stream",
     "text": [
      "    cid cname  bid bname\n",
      "8     1    帽子   10   雷锋帽\n",
      "9     1    帽子   11   鸭舌帽\n",
      "10    1    帽子  118   皮草帽\n",
      "0     1    帽子    2   毛线帽\n",
      "1     1    帽子    3   头巾帽\n",
      "2     1    帽子    4   贝雷帽\n",
      "3     1    帽子    5   报童帽\n",
      "4     1    帽子    6   渔夫帽\n",
      "5     1    帽子    7   太阳帽\n",
      "6     1    帽子    8    礼帽\n",
      "7     1    帽子    9   平顶帽\n",
      "['雷锋帽', '鸭舌帽', '皮草帽', '毛线帽', '头巾帽', '贝雷帽', '报童帽', '渔夫帽', '太阳帽', '礼帽', '平顶帽']\n"
     ]
    }
   ],
   "source": [
    "import pandas as pd\n",
    "t = pd.read_excel('/home/lhw/face/faceRec/data.xlsx')\n",
    "t = t[t.cid==int(class_id)]\n",
    "t.bid = t.bid.apply(str)\n",
    "t=t.sort_values(by='bid')\n",
    "print(t)\n",
    "class_name_list = t.bname.tolist()\n",
    "print(class_name_list)\n",
    "class_name_list_dic = {}\n",
    "for idx,i in enumerate(class_name_list):\n",
    "    class_name_list_dic[i] = idx"
   ]
  },
  {
   "cell_type": "code",
   "execution_count": 11,
   "metadata": {
    "collapsed": true
   },
   "outputs": [],
   "source": [
    "preds = res_final.asnumpy()\n",
    "preds = preds.argmax(axis=1)\n",
    "preds.shape\n",
    "from sklearn.metrics import confusion_matrix,classification_report,f1_score,recall_score,accuracy_score\n",
    "cm = confusion_matrix(l,preds)"
   ]
  },
  {
   "cell_type": "code",
   "execution_count": 15,
   "metadata": {},
   "outputs": [
    {
     "name": "stdout",
     "output_type": "stream",
     "text": [
      "array([[ 0.90812721,  0.        ,  0.02473498,  0.00353357,  0.01060071,\n",
      "         0.02120141,  0.01060071,  0.00353357,  0.01060071,  0.00706714],\n",
      "       [ 0.66666667,  0.        ,  0.33333333,  0.        ,  0.        ,\n",
      "         0.        ,  0.        ,  0.        ,  0.        ,  0.        ],\n",
      "       [ 0.05309735,  0.        ,  0.91150442,  0.        ,  0.        ,\n",
      "         0.00884956,  0.00884956,  0.00884956,  0.00884956,  0.        ],\n",
      "       [ 0.11764706,  0.        ,  0.11764706,  0.64705882,  0.        ,\n",
      "         0.05882353,  0.        ,  0.        ,  0.05882353,  0.        ],\n",
      "       [ 0.11764706,  0.        ,  0.01470588,  0.01470588,  0.70588235,\n",
      "         0.08823529,  0.        ,  0.        ,  0.04411765,  0.01470588],\n",
      "       [ 0.09230769,  0.        ,  0.03076923,  0.01538462,  0.06153846,\n",
      "         0.63076923,  0.01538462,  0.04615385,  0.03076923,  0.07692308],\n",
      "       [ 0.03296703,  0.        ,  0.04395604,  0.01098901,  0.03296703,\n",
      "         0.04395604,  0.64835165,  0.08791209,  0.07692308,  0.02197802],\n",
      "       [ 0.03932584,  0.        ,  0.00561798,  0.        ,  0.00561798,\n",
      "         0.        ,  0.02808989,  0.85393258,  0.06741573,  0.        ],\n",
      "       [ 0.008     ,  0.        ,  0.012     ,  0.        ,  0.024     ,\n",
      "         0.012     ,  0.036     ,  0.052     ,  0.856     ,  0.        ],\n",
      "       [ 0.23076923,  0.        ,  0.07692308,  0.07692308,  0.07692308,\n",
      "         0.07692308,  0.        ,  0.        ,  0.        ,  0.46153846]])\n",
      "1.0\n",
      "[('礼帽', 0.46153846153846156),\n",
      " ('贝雷帽', 0.076923076923076927),\n",
      " ('报童帽', 0.02197802197802198),\n",
      " ('头巾帽', 0.014705882352941176),\n",
      " ('雷锋帽', 0.0070671378091872791),\n",
      " ('鸭舌帽', 0.0),\n",
      " ('皮草帽', 0.0),\n",
      " ('毛线帽', 0.0),\n",
      " ('渔夫帽', 0.0),\n",
      " ('太阳帽', 0.0)]\n",
      "[('礼帽', 0.46153846153846156),\n",
      " ('雷锋帽', 0.23076923076923078),\n",
      " ('皮草帽', 0.076923076923076927),\n",
      " ('毛线帽', 0.076923076923076927),\n",
      " ('头巾帽', 0.076923076923076927),\n",
      " ('贝雷帽', 0.076923076923076927),\n",
      " ('鸭舌帽', 0.0),\n",
      " ('报童帽', 0.0),\n",
      " ('渔夫帽', 0.0),\n",
      " ('太阳帽', 0.0)]\n"
     ]
    }
   ],
   "source": [
    "cm_norm = (cm/cm.sum(axis=1)[:,np.newaxis])\n",
    "pprint(cm_norm)\n",
    "from pprint import pprint\n",
    "selected_class_type = '礼帽'\n",
    "c1 = [i[class_name_list_dic[selected_class_type]] for i in cm_norm]\n",
    "c2 = cm_norm[class_name_list_dic[selected_class_type]]\n",
    "print(sum(c2))\n",
    "pprint(sorted(list(zip(class_name_list,c1)),key=lambda s:s[1],reverse=True))\n",
    "pprint(sorted(list(zip(class_name_list,c2)),key=lambda s:s[1],reverse=True))"
   ]
  },
  {
   "cell_type": "code",
   "execution_count": 14,
   "metadata": {},
   "outputs": [
    {
     "name": "stdout",
     "output_type": "stream",
     "text": [
      "('             precision    recall  f1-score   support\\n'\n",
      " '\\n'\n",
      " '        雷锋帽       0.87      0.91      0.89       283\\n'\n",
      " '        鸭舌帽       0.00      0.00      0.00         3\\n'\n",
      " '        皮草帽       0.82      0.91      0.87       113\\n'\n",
      " '        毛线帽       0.69      0.65      0.67        17\\n'\n",
      " '        头巾帽       0.73      0.71      0.72        68\\n'\n",
      " '        贝雷帽       0.65      0.63      0.64        65\\n'\n",
      " '        报童帽       0.76      0.65      0.70        91\\n'\n",
      " '        渔夫帽       0.85      0.85      0.85       178\\n'\n",
      " '        太阳帽       0.88      0.86      0.87       250\\n'\n",
      " '         礼帽       0.38      0.46      0.41        13\\n'\n",
      " '\\n'\n",
      " 'avg / total       0.82      0.82      0.82      1081\\n')\n"
     ]
    },
    {
     "name": "stderr",
     "output_type": "stream",
     "text": [
      "/home/lhw/anaconda3/lib/python3.6/site-packages/sklearn/metrics/classification.py:1428: UserWarning: labels size, 10, does not match size of target_names, 11\n",
      "  .format(len(labels), len(target_names))\n",
      "/home/lhw/anaconda3/lib/python3.6/site-packages/sklearn/metrics/classification.py:1135: UndefinedMetricWarning: Precision and F-score are ill-defined and being set to 0.0 in labels with no predicted samples.\n",
      "  'precision', 'predicted', average, warn_for)\n"
     ]
    }
   ],
   "source": [
    "pprint(classification_report(y_pred=preds,y_true=l,target_names=class_name_list))\n"
   ]
  },
  {
   "cell_type": "code",
   "execution_count": null,
   "metadata": {
    "collapsed": true
   },
   "outputs": [],
   "source": []
  }
 ],
 "metadata": {
  "kernelspec": {
   "display_name": "Python 3",
   "language": "python",
   "name": "python3"
  },
  "language_info": {
   "codemirror_mode": {
    "name": "ipython",
    "version": 3
   },
   "file_extension": ".py",
   "mimetype": "text/x-python",
   "name": "python",
   "nbconvert_exporter": "python",
   "pygments_lexer": "ipython3",
   "version": "3.6.1"
  }
 },
 "nbformat": 4,
 "nbformat_minor": 2
}
