{
 "cells": [
  {
   "cell_type": "code",
   "execution_count": 2,
   "metadata": {
    "collapsed": true
   },
   "outputs": [],
   "source": [
    "import pickle\n",
    "with open('unqiue_pic_url.pickle','rb') as f:\n",
    "    d = pickle.load(f)\n"
   ]
  },
  {
   "cell_type": "code",
   "execution_count": 17,
   "metadata": {},
   "outputs": [
    {
     "name": "stdout",
     "output_type": "stream",
     "text": [
      "1 2 http://cdn.watoo11.com/wardrobe/201610/2016103110410725154.jpg\n1 3 http://cdn.watoo11.com/wardrobe/201612/2016120500282813256.jpg\n1 4 http://cdn.watoo11.com/wardrobe/201611/2016110913174031255.jpg\n1 5 http://cdn.watoo11.com/wardrobe/201611/2016111413321009750.jpg\n1 6 http://cdn.watoo11.com/wardrobe/201611/2016110821475972481.jpg\n1 7 http://cdn.watoo11.com/wardrobe/201611/2016110620451111589.jpg\n1 8 http://cdn.watoo11.com/wardrobe/201610/2016103114360609830.jpg\n1 9 http://cdn.watoo11.com/wardrobe/201611/2016111319185483550.jpg\n1 10 http://cdn.watoo11.com/wardrobe/201611/2016112015103248546.jpg\n1 11 http://cdn.watoo11.com/wardrobe/201611/2016110205310235483.jpg\n1 118 http://cdn.watoo11.com/wardrobe/201701/2017010211324955257.jpg\n3 75 http://cdn.watoo11.com/wardrobe/201701/2017011623000901976.jpg\n3 15 http://cdn.watoo11.com/wardrobe/201608/2016081510333360446.jpg\n3 16 http://cdn.watoo11.com/wardrobe/201609/2016092921255366265.jpg\n3 17 http://cdn.watoo11.com/wardrobe/201611/2016110912343405095.jpg\n4 18 http://cdn.watoo11.com/wardrobe/201610/2016102917075141523.jpg\n4 19 http://cdn.watoo11.com/wardrobe/201610/2016100820595918817.jpg\n4 20 http://cdn.watoo11.com/wardrobe/201610/2016100821014981878.jpg\n4 21 http://cdn.watoo11.com/wardrobe/201609/2016090916111220447.jpg\n4 22 http://cdn.watoo11.com/wardrobe/201609/2016090916074259002.jpg\n4 23 http://cdn.watoo11.com/wardrobe/201610/2016101116263071809.jpg\n4 24 http://cdn.watoo11.com/wardrobe/201609/2016092921280978409.jpg\n4 25 http://cdn.watoo11.com/wardrobe/201610/2016102920263443127.jpg\n4 27 http://cdn.watoo11.com/wardrobe/201611/2016110215530773016.jpg\n4 28 http://cdn.watoo11.com/wardrobe/201609/2016092220264514259.jpg\n4 29 http://cdn.watoo11.com/wardrobe/201610/2016102816541813862.jpg\n4 30 http://cdn.watoo11.com/wardrobe/201610/2016100919564856774.jpg\n4 31 http://cdn.watoo11.com/wardrobe/201611/2016110613421379820.jpg\n4 32 http://cdn.watoo11.com/wardrobe/201609/2016092921364577960.jpg\n4 33 http://cdn.watoo11.com/wardrobe/201610/2016102808390587024.jpg\n4 34 http://cdn.watoo11.com/wardrobe/201610/2016102819284604089.jpg\n4 122 http://cdn.watoo11.com/wardrobe/201609/2016092921291374357.jpg\n4 124 http://cdn.watoo11.com/wardrobe/201701/2017011622584710501.jpg\n4 127 http://cdn.watoo11.com/wardrobe/201610/2016100109402757900.jpg\n4 130 http://cdn.watoo11.com/wardrobe/201610/2016103002134690296.jpg\n5 54 http://cdn.watoo11.com/wardrobe/201609/2016090916110028995.jpg\n5 55 http://cdn.watoo11.com/wardrobe/201609/2016090916065550612.jpg\n5 56 http://cdn.watoo11.com/wardrobe/201609/2016092921545506868.jpg\n5 57 http://cdn.watoo11.com/wardrobe/201610/2016102920481989245.jpg\n5 58 http://cdn.watoo11.com/wardrobe/201611/2016111211195559950.jpg\n6 60 http://cdn.watoo11.com/wardrobe/201609/2016092220281068103.jpg\n7 62 http://cdn.watoo11.com/wardrobe/201608/2016082311172017482.jpg\n7 63 http://cdn.watoo11.com/wardrobe/201610/2016101116280000534.jpg\n8 65 http://cdn.watoo11.com/wardrobe/201609/2016092921243433116.jpg\n10 69 http://cdn.watoo11.com/wardrobe/201609/2016090916125045434.jpg\n10 70 http://cdn.watoo11.com/wardrobe/201609/2016090916103491886.jpg\n"
     ]
    }
   ],
   "source": [
    "for idx,i in enumerate(d):\n",
    "    if idx+1 in [2,9]:\n",
    "        continue\n",
    "    for j in i.keys():\n",
    "        print(idx+1,j,i[j][0][0])"
   ]
  },
  {
   "cell_type": "code",
   "execution_count": null,
   "metadata": {},
   "outputs": [],
   "source": [
    "import os\n",
    "os.system(\"ping www.baidu.com\")"
   ]
  }
 ],
 "metadata": {
  "kernelspec": {
   "display_name": "Python 2",
   "language": "python",
   "name": "python2"
  },
  "language_info": {
   "codemirror_mode": {
    "name": "ipython",
    "version": 2
   },
   "file_extension": ".py",
   "mimetype": "text/x-python",
   "name": "python",
   "nbconvert_exporter": "python",
   "pygments_lexer": "ipython2",
   "version": "2.7.6"
  }
 },
 "nbformat": 4,
 "nbformat_minor": 0
}
